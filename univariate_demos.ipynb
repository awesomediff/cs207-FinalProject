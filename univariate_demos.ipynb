{
 "cells": [
  {
   "cell_type": "code",
   "execution_count": 1,
   "metadata": {},
   "outputs": [],
   "source": [
    "# import awesomediff \n",
    "import math\n",
    "import awesomediff as ad"
   ]
  },
  {
   "cell_type": "markdown",
   "metadata": {},
   "source": [
    "### Demo 1: Univariate Function \n",
    "##### Examples below illustrate how to calculate the value and derivative of univariate functions at a single value."
   ]
  },
  {
   "cell_type": "markdown",
   "metadata": {},
   "source": [
    "#### Case 1: Evaluate value and derivative of $f(x) = 3sin(0.5x)^2,  x = \\pi$"
   ]
  },
  {
   "cell_type": "code",
   "execution_count": 3,
   "metadata": {},
   "outputs": [
    {
     "name": "stdout",
     "output_type": "stream",
     "text": [
      "value at x = pi: 3.0\n",
      "derivative at x = pi: 1.8369701987210297e-16\n"
     ]
    }
   ],
   "source": [
    "# instantiate variable object\n",
    "x = ad.variable(val=math.pi)\n",
    "\n",
    "# define function with x, which is a variable object\n",
    "f = 3*ad.sin(0.5*x)**2\n",
    "\n",
    "# value of f(x) at x = pi\n",
    "print(\"value at x = pi:\", f.val)  \n",
    "\n",
    "# derivative of f(x) at x = pi\n",
    "print(\"derivative at x = pi:\", f.der)"
   ]
  },
  {
   "cell_type": "markdown",
   "metadata": {},
   "source": [
    "#### Case 2: Evaluate value and derivative of $\\text{area} = \\pi r^2,  r = 10$"
   ]
  },
  {
   "cell_type": "code",
   "execution_count": 4,
   "metadata": {},
   "outputs": [
    {
     "name": "stdout",
     "output_type": "stream",
     "text": [
      "area at radius = 10: 314.1592653589793\n",
      "circumference at radius = 10: 62.83185307179586\n"
     ]
    }
   ],
   "source": [
    "# area of a circle\n",
    "calc_area = lambda r: math.pi*r**2  \n",
    "\n",
    "# instantiate variable object \n",
    "radius = ad.variable(10)\n",
    "\n",
    "# pass in variable object into lambda function\n",
    "area = calc_area(radius)\n",
    "\n",
    "# area when radius = 10\n",
    "print(\"area at radius = 10:\", area.val) \n",
    "\n",
    "# derivative of area (i.e. circumference) when radius = 10\n",
    "print(\"circumference at radius = 10:\", area.der) "
   ]
  },
  {
   "cell_type": "markdown",
   "metadata": {},
   "source": [
    "#### Case 3: Evaluate value and derivative of CDF of exponential distribution $1 - e^{-5x}, x=0.5$"
   ]
  },
  {
   "cell_type": "code",
   "execution_count": 5,
   "metadata": {},
   "outputs": [
    {
     "name": "stdout",
     "output_type": "stream",
     "text": [
      "awesomediff.variable(val=0.0820849986238988,der=-0.410424993119494) 1 awesomediff.variable(val=-1.0820849986238987,der=0.410424993119494)\n",
      "CDF at x = 0.5 0.9179150013761012\n",
      "PDF at x = 0.5 0.410424993119494\n"
     ]
    }
   ],
   "source": [
    "# define CDF of exponential distribution\n",
    "def exp_cdf(x,rate):\n",
    "    return 1-ad.exp(-rate*x)\n",
    "\n",
    "# instantiate variable object\n",
    "x = ad.variable(0.5)\n",
    "\n",
    "result = exp_cdf(x=x,rate=5)\n",
    "cdf = result.val\n",
    "pdf = result.der\n",
    "\n",
    "# value of CDF function\n",
    "print(\"CDF at x = 0.5\", cdf)\n",
    "\n",
    "# value of PDF function (i.e. derivative of CDF)\n",
    "print(\"PDF at x = 0.5\", pdf)"
   ]
  },
  {
   "cell_type": "markdown",
   "metadata": {},
   "source": [
    "#### Case 4: Evaluate value and derivative of logistic growth model $P(t) = \\frac{c}{1+ae^{-bt}}, t=25$"
   ]
  },
  {
   "cell_type": "code",
   "execution_count": 6,
   "metadata": {},
   "outputs": [
    {
     "name": "stdout",
     "output_type": "stream",
     "text": [
      "population 0.10451657737645105\n",
      "population growth rate -2.184742989297536e-05\n"
     ]
    }
   ],
   "source": [
    "def logistic_growth(t,a,b,c):\n",
    "    return c / (1 + a*ad.exp(-b*t))\n",
    "\n",
    "t = ad.variable(25)\n",
    "\n",
    "growth_model = logistic_growth(t, a=83.33, b=-0.162, c=500)\n",
    "\n",
    "population = growth_model.val\n",
    "growth_rate = growth_model.der\n",
    "\n",
    "# population at t = 25\n",
    "print(\"population at t = 25:\", population)\n",
    "\n",
    "# population growth rate at t = 25\n",
    "print(\"population growth rate at t = 25:\", growth_rate)\n"
   ]
  },
  {
   "cell_type": "markdown",
   "metadata": {},
   "source": [
    "#### Case 5: Evaluate value and derivative of logistic growth model $f(x) = ln\\sqrt{\\frac{1-x}{x+1}}, x=0.3$"
   ]
  },
  {
   "cell_type": "code",
   "execution_count": 9,
   "metadata": {},
   "outputs": [
    {
     "name": "stdout",
     "output_type": "stream",
     "text": [
      "awesomediff.variable(val=0.3,der=1) 1 awesomediff.variable(val=-1.3,der=-1)\n",
      "value at x = 2: -0.3095196042031118\n",
      "derivative at x = 2: -1.098901098901099\n"
     ]
    }
   ],
   "source": [
    "# instantiate variable object\n",
    "x = ad.variable(0.3)\n",
    "\n",
    "# define function\n",
    "f = lambda x: ad.log(ad.sqrt((1-x)/(x+1)))\n",
    "\n",
    "# pass in variable object into function\n",
    "result = f(x)\n",
    "\n",
    "# value of funcation at x = 2\n",
    "print(\"value at x = 2:\", result.val)\n",
    "\n",
    "# derivative of function at x = 2\n",
    "print(\"derivative at x = 2:\", result.der)\n"
   ]
  },
  {
   "cell_type": "code",
   "execution_count": null,
   "metadata": {},
   "outputs": [],
   "source": []
  }
 ],
 "metadata": {
  "kernelspec": {
   "display_name": "Python 3",
   "language": "python",
   "name": "python3"
  },
  "language_info": {
   "codemirror_mode": {
    "name": "ipython",
    "version": 3
   },
   "file_extension": ".py",
   "mimetype": "text/x-python",
   "name": "python",
   "nbconvert_exporter": "python",
   "pygments_lexer": "ipython3",
   "version": "3.6.5"
  }
 },
 "nbformat": 4,
 "nbformat_minor": 2
}
