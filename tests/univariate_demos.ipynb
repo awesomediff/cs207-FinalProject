{
 "cells": [
  {
   "cell_type": "code",
   "execution_count": 1,
   "metadata": {},
   "outputs": [
    {
     "ename": "ModuleNotFoundError",
     "evalue": "No module named 'awesomediff'",
     "output_type": "error",
     "traceback": [
      "\u001b[0;31m---------------------------------------------------------------------------\u001b[0m",
      "\u001b[0;31mModuleNotFoundError\u001b[0m                       Traceback (most recent call last)",
      "\u001b[0;32m<ipython-input-1-62d41f967c48>\u001b[0m in \u001b[0;36m<module>\u001b[0;34m\u001b[0m\n\u001b[1;32m      1\u001b[0m \u001b[0;31m# import awesomediff\u001b[0m\u001b[0;34m\u001b[0m\u001b[0;34m\u001b[0m\u001b[0m\n\u001b[1;32m      2\u001b[0m \u001b[0;32mimport\u001b[0m \u001b[0mmath\u001b[0m\u001b[0;34m\u001b[0m\u001b[0m\n\u001b[0;32m----> 3\u001b[0;31m \u001b[0;32mimport\u001b[0m \u001b[0mawesomediff\u001b[0m \u001b[0;32mas\u001b[0m \u001b[0mad\u001b[0m\u001b[0;34m\u001b[0m\u001b[0m\n\u001b[0m",
      "\u001b[0;31mModuleNotFoundError\u001b[0m: No module named 'awesomediff'"
     ]
    }
   ],
   "source": [
    "# import awesomediff \n",
    "import math\n",
    "import awesomediff as ad"
   ]
  },
  {
   "cell_type": "markdown",
   "metadata": {},
   "source": [
    "### Demo 1: Univariate Function \n",
    "##### Examples below illustrate how to calculate the value and derivative of univariate functions at a single value."
   ]
  },
  {
   "cell_type": "markdown",
   "metadata": {},
   "source": [
    "#### Case 1: Evaluate value and derivative of $f(x) = 3sin(0.5x)^2,  x = \\pi$"
   ]
  },
  {
   "cell_type": "code",
   "execution_count": null,
   "metadata": {},
   "outputs": [],
   "source": [
    "# instantiate variable object\n",
    "x = ad.variable(val=math.pi)\n",
    "\n",
    "# define function with x, which is a variable object\n",
    "f = 3*ad.sin(0.5*x)**2\n",
    "\n",
    "# value of f(x) at x = pi\n",
    "print(\"value at x = pi:\", f.val)  \n",
    "\n",
    "# derivative of f(x) at x = pi\n",
    "print(\"derivative at x = pi:\", f.der)"
   ]
  },
  {
   "cell_type": "markdown",
   "metadata": {},
   "source": [
    "#### Case 2: Evaluate value and derivative of $\\text{area} = \\pi r^2,  r = 10$"
   ]
  },
  {
   "cell_type": "code",
   "execution_count": 3,
   "metadata": {},
   "outputs": [
    {
     "ename": "NameError",
     "evalue": "name 'ad' is not defined",
     "output_type": "error",
     "traceback": [
      "\u001b[0;31m---------------------------------------------------------------------------\u001b[0m",
      "\u001b[0;31mNameError\u001b[0m                                 Traceback (most recent call last)",
      "\u001b[0;32m<ipython-input-3-73e0a3e6c5ad>\u001b[0m in \u001b[0;36m<module>\u001b[0;34m\u001b[0m\n\u001b[1;32m      3\u001b[0m \u001b[0;34m\u001b[0m\u001b[0m\n\u001b[1;32m      4\u001b[0m \u001b[0;31m# instantiate variable object with value at which to compute function value and derivative\u001b[0m\u001b[0;34m\u001b[0m\u001b[0;34m\u001b[0m\u001b[0m\n\u001b[0;32m----> 5\u001b[0;31m \u001b[0mradius\u001b[0m \u001b[0;34m=\u001b[0m \u001b[0mad\u001b[0m\u001b[0;34m.\u001b[0m\u001b[0mvariable\u001b[0m\u001b[0;34m(\u001b[0m\u001b[0;36m10\u001b[0m\u001b[0;34m)\u001b[0m\u001b[0;34m\u001b[0m\u001b[0m\n\u001b[0m\u001b[1;32m      6\u001b[0m \u001b[0;34m\u001b[0m\u001b[0m\n\u001b[1;32m      7\u001b[0m \u001b[0;31m# pass in variable object into lambda function\u001b[0m\u001b[0;34m\u001b[0m\u001b[0;34m\u001b[0m\u001b[0m\n",
      "\u001b[0;31mNameError\u001b[0m: name 'ad' is not defined"
     ]
    }
   ],
   "source": [
    "# area of a circle\n",
    "calc_area = lambda r: math.pi*r**2  \n",
    "\n",
    "# instantiate variable object \n",
    "radius = ad.variable(10)\n",
    "\n",
    "# pass in variable object into lambda function\n",
    "area = calc_area(radius)\n",
    "\n",
    "# area when radius = 10\n",
    "print(\"area at radius = 10:\", area.val) \n",
    "\n",
    "# derivative of area (i.e. circumference) when radius = 10\n",
    "print(\"circumference at radius = 10:\", area.der) "
   ]
  },
  {
   "cell_type": "markdown",
   "metadata": {},
   "source": [
    "#### Case 3: Evaluate value and derivative of CDF of exponential distribution $1 - e^{-5x}, x=0.5$"
   ]
  },
  {
   "cell_type": "code",
   "execution_count": null,
   "metadata": {},
   "outputs": [],
   "source": [
    "# define CDF of exponential distribution\n",
    "def exp_cdf(x,rate):\n",
    "    return 1-ad.exp(-rate*x)\n",
    "\n",
    "# instantiate variable object\n",
    "x = ad.variable(0.5)\n",
    "\n",
    "result = exp_cdf(x=x,rate=5)\n",
    "cdf = result.val\n",
    "pdf = result.der\n",
    "\n",
    "# Value CDF function\n",
    "print(\"CDF\", cdf)\n",
    "\n",
    "# Value of PDF function\n",
    "print(\"PDF\", pdf)"
   ]
  },
  {
   "cell_type": "markdown",
   "metadata": {},
   "source": [
    "#### Case 4: Evaluate value and derivative of logistic growth model $P(t) = \\frac{c}{1+ae^{-bt}}, t=25$"
   ]
  },
  {
   "cell_type": "code",
   "execution_count": null,
   "metadata": {},
   "outputs": [],
   "source": [
    "def logistic_growth(t,a,b,c):\n",
    "    return c / (1 + a*ad.exp(-b*t))\n",
    "\n",
    "t = ad.variable(25)\n",
    "\n",
    "growth_model = logistic_growth(t, a=83.33, b=-0.162, c=500)\n",
    "\n",
    "population = growth_model.val\n",
    "growth_rate = growth_model.der\n",
    "\n",
    "# population at t = 25\n",
    "print(\"population\", population)\n",
    "\n",
    "# population growth rate at t = 25\n",
    "print(\"population growth rate\", growth_rate)\n"
   ]
  }
 ],
 "metadata": {
  "kernelspec": {
   "display_name": "Python 3",
   "language": "python",
   "name": "python3"
  },
  "language_info": {
   "codemirror_mode": {
    "name": "ipython",
    "version": 3
   },
   "file_extension": ".py",
   "mimetype": "text/x-python",
   "name": "python",
   "nbconvert_exporter": "python",
   "pygments_lexer": "ipython3",
   "version": "3.6.5"
  }
 },
 "nbformat": 4,
 "nbformat_minor": 2
}
